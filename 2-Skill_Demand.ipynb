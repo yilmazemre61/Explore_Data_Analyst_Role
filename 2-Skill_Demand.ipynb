{
 "cells": [
  {
   "cell_type": "markdown",
   "id": "7d12c73f",
   "metadata": {},
   "source": [
    "What are the most demanded skills for the top 3 most popular data roles?\n",
    "\n",
    "Methodology\n",
    "\n",
    "    1. Clean-up skill column\n",
    "    2. Claculate skill count based on 'job_title_short'\n",
    "    3. Calculate skill percentage\n",
    "    4. Plot final findings"
   ]
  },
  {
   "cell_type": "code",
   "execution_count": 1,
   "id": "6726404a",
   "metadata": {},
   "outputs": [],
   "source": [
    "# Importing Libraries\n",
    "import ast\n",
    "import pandas as pd\n",
    "import seaborn as sns\n",
    "from datasets import load_dataset\n",
    "import matplotlib.pyplot as plt\n",
    "from datetime import datetime as dt\n",
    "\n",
    "# Loading Data\n",
    "dataset = load_dataset('lukebarousse/data_jobs')\n",
    "df = dataset['train'].to_pandas()\n",
    "\n",
    "# Data Cleanup\n",
    "df['job_posted_date'] = pd.to_datetime(df['job_posted_date'])\n",
    "df['job_skills'] = df['job_skills'].apply(lambda x: ast.literal_eval(x) if pd.notna(x) else x)"
   ]
  },
  {
   "cell_type": "code",
   "execution_count": 2,
   "id": "da94043a",
   "metadata": {},
   "outputs": [],
   "source": [
    "# New DtaFrame for the job posting in the United States\n",
    "df_US = df[df['job_country'] == 'United States']\n",
    "\n",
    "# Using the explode method to broad the job skills\n",
    "df_skills = df_US.explode('job_skills')"
   ]
  },
  {
   "cell_type": "code",
   "execution_count": null,
   "id": "624783c4",
   "metadata": {},
   "outputs": [],
   "source": []
  }
 ],
 "metadata": {
  "kernelspec": {
   "display_name": "python_course",
   "language": "python",
   "name": "python3"
  },
  "language_info": {
   "codemirror_mode": {
    "name": "ipython",
    "version": 3
   },
   "file_extension": ".py",
   "mimetype": "text/x-python",
   "name": "python",
   "nbconvert_exporter": "python",
   "pygments_lexer": "ipython3",
   "version": "3.11.11"
  }
 },
 "nbformat": 4,
 "nbformat_minor": 5
}
